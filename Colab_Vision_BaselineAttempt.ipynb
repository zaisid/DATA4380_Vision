{
 "cells": [
  {
   "cell_type": "code",
   "execution_count": 5,
   "metadata": {
    "id": "Wt3Q_AVGhlfo"
   },
   "outputs": [],
   "source": [
    "import tensorflow as tf\n",
    "import keras\n",
    "import numpy as np\n",
    "import matplotlib.pyplot as plt\n",
    "from keras.applications import ResNet50V2\n",
    "from keras import layers\n",
    "from tensorflow import data as tf_data\n",
    "import os\n",
    "import random"
   ]
  },
  {
   "cell_type": "code",
   "execution_count": 6,
   "metadata": {
    "id": "rTFZwTdjbacU"
   },
   "outputs": [],
   "source": [
    "import zipfile"
   ]
  },
  {
   "cell_type": "code",
   "execution_count": 7,
   "metadata": {
    "id": "EXG-ADMdf3PU"
   },
   "outputs": [],
   "source": [
    "import shutil"
   ]
  },
  {
   "cell_type": "code",
   "execution_count": 8,
   "metadata": {
    "id": "VzSwRJ_Pc6Ro"
   },
   "outputs": [],
   "source": [
    "zip_file_path = \"/content/CSAFE_Handwriting_Images.zip\"\n",
    "extract_to_path = \"/content/Data\""
   ]
  },
  {
   "cell_type": "code",
   "execution_count": 9,
   "metadata": {
    "id": "ArFv6_UkdPOh"
   },
   "outputs": [],
   "source": [
    "with zipfile.ZipFile(zip_file_path, 'r') as zip_ref:\n",
    "    zip_ref.extractall(extract_to_path)"
   ]
  },
  {
   "cell_type": "code",
   "execution_count": 10,
   "metadata": {
    "id": "Wh7TYvfadSn2"
   },
   "outputs": [],
   "source": [
    "source_dir = \"/content/Data\"\n",
    "dest_dir = source_dir\n",
    "\n",
    "os.makedirs(dest_dir, exist_ok=True)\n",
    "\n",
    "for filename in os.listdir(source_dir):\n",
    "    if filename.endswith(\".png\"):\n",
    "        # Extract writer ID from filename, assumes format \"wxxxx_syy_pzzz_rqq\"\n",
    "        writer_id = filename.split(\"_\")[0]  # 'wxxxx'\n",
    "\n",
    "        writer_folder = os.path.join(dest_dir, writer_id)\n",
    "        os.makedirs(writer_folder, exist_ok=True)\n",
    "\n",
    "        src_path = os.path.join(source_dir, filename)\n",
    "        dest_path = os.path.join(writer_folder, filename)\n",
    "\n",
    "        shutil.move(src_path, dest_path)"
   ]
  },
  {
   "cell_type": "code",
   "execution_count": 11,
   "metadata": {
    "colab": {
     "base_uri": "https://localhost:8080/"
    },
    "id": "B5icPBFrdSlY",
    "outputId": "62738e41-b0f4-4555-9a86-98c1644349da",
    "scrolled": true
   },
   "outputs": [
    {
     "data": {
      "text/plain": [
       "['w0001_s03_pWOZ_r03.png',\n",
       " 'w0001_s01_pLND_r01.png',\n",
       " 'w0001_s01_pLND_r03.png',\n",
       " 'w0001_s03_pPHR_r03.png',\n",
       " 'w0001_s03_pLND_r01.png',\n",
       " 'w0001_s01_pPHR_r03.png',\n",
       " 'w0001_s03_pLND_r03.png',\n",
       " 'w0001_s01_pWOZ_r03.png',\n",
       " 'w0001_s02_pPHR_r01.png',\n",
       " 'w0001_s03_pPHR_r02.png',\n",
       " 'w0001_s03_pWOZ_r02.png',\n",
       " 'w0001_s02_pWOZ_r02.png',\n",
       " 'w0001_s02_pWOZ_r01.png',\n",
       " 'w0001_s03_pPHR_r01.png',\n",
       " 'w0001_s01_pWOZ_r02.png',\n",
       " 'w0001_s01_pWOZ_r01.png',\n",
       " 'w0001_s02_pWOZ_r03.png',\n",
       " 'w0001_s01_pPHR_r02.png',\n",
       " 'w0001_s01_pPHR_r01.png',\n",
       " 'w0001_s02_pPHR_r03.png',\n",
       " 'w0001_s03_pLND_r02.png',\n",
       " 'w0001_s02_pLND_r03.png',\n",
       " 'w0001_s02_pLND_r02.png',\n",
       " 'w0001_s02_pPHR_r02.png',\n",
       " 'w0001_s02_pLND_r01.png',\n",
       " 'w0001_s03_pWOZ_r01.png',\n",
       " 'w0001_s01_pLND_r02.png']"
      ]
     },
     "execution_count": 11,
     "metadata": {},
     "output_type": "execute_result"
    }
   ],
   "source": [
    "os.listdir(f\"{dest_dir}/w0001\") #get list of files in directory"
   ]
  },
  {
   "cell_type": "code",
   "execution_count": 12,
   "metadata": {
    "colab": {
     "base_uri": "https://localhost:8080/"
    },
    "id": "2oetPY0Xg1nd",
    "outputId": "98b0b51a-74bc-4b77-8441-84ac1a909bb9"
   },
   "outputs": [
    {
     "data": {
      "text/plain": [
       "['CSAFE_Handwriting_Info.csv', 'w0001', 'w0002', 'w0003', 'w0004']"
      ]
     },
     "execution_count": 12,
     "metadata": {},
     "output_type": "execute_result"
    }
   ],
   "source": [
    "w_ids = os.listdir(\"/content/Data\")\n",
    "w_ids.sort()\n",
    "w_ids[:5]"
   ]
  },
  {
   "cell_type": "code",
   "execution_count": 13,
   "metadata": {
    "colab": {
     "base_uri": "https://localhost:8080/"
    },
    "id": "3bwX5Oc_hI4i",
    "outputId": "b3b0206a-f482-4228-9169-c5524e2661c4"
   },
   "outputs": [
    {
     "data": {
      "text/plain": [
       "['w0001', 'w0002', 'w0003', 'w0004', 'w0005']"
      ]
     },
     "execution_count": 13,
     "metadata": {},
     "output_type": "execute_result"
    }
   ],
   "source": [
    "w_ids.pop(0)\n",
    "w_ids[:5]"
   ]
  },
  {
   "cell_type": "code",
   "execution_count": 14,
   "metadata": {
    "colab": {
     "base_uri": "https://localhost:8080/"
    },
    "id": "KaNrhZJBhRI4",
    "outputId": "93be0e39-0b63-439d-e8de-28c8b4c97bd7"
   },
   "outputs": [
    {
     "data": {
      "text/plain": [
       "90"
      ]
     },
     "execution_count": 14,
     "metadata": {},
     "output_type": "execute_result"
    }
   ],
   "source": [
    "len(w_ids)"
   ]
  },
  {
   "cell_type": "code",
   "execution_count": 15,
   "metadata": {
    "colab": {
     "base_uri": "https://localhost:8080/"
    },
    "id": "85rWaYYhiUEH",
    "outputId": "9445e919-2b17-4735-e757-2bfd4ecb6f81"
   },
   "outputs": [
    {
     "data": {
      "text/plain": [
       "22"
      ]
     },
     "execution_count": 15,
     "metadata": {},
     "output_type": "execute_result"
    }
   ],
   "source": [
    "round(27*0.8)"
   ]
  },
  {
   "cell_type": "code",
   "execution_count": 16,
   "metadata": {
    "colab": {
     "base_uri": "https://localhost:8080/",
     "height": 35
    },
    "id": "Q-g07mUtipzZ",
    "outputId": "3a57e311-fbd7-45c6-8e96-1c0a742d3a9c"
   },
   "outputs": [
    {
     "data": {
      "application/vnd.google.colaboratory.intrinsic+json": {
       "type": "string"
      },
      "text/plain": [
       "'/content/Data'"
      ]
     },
     "execution_count": 16,
     "metadata": {},
     "output_type": "execute_result"
    }
   ],
   "source": [
    "source_dir"
   ]
  },
  {
   "cell_type": "code",
   "execution_count": 17,
   "metadata": {
    "id": "j9HACC47iT8k"
   },
   "outputs": [],
   "source": [
    "for writer in w_ids:\n",
    "    writer_path = f\"{source_dir}/{writer}\"\n",
    "\n",
    "    writer_images = os.listdir(writer_path) #list of all images for writer\n",
    "\n",
    "    #shuffle images\n",
    "    random.shuffle(writer_images)\n",
    "\n",
    "    train_set = writer_images[:22] #80/20 split --> 22/5\n",
    "    val_set = writer_images[22:]\n",
    "\n",
    "    #create sub directories in writer folders\n",
    "    train_folder = os.path.join(source_dir, \"train\")\n",
    "    val_folder = os.path.join(source_dir, \"val\")\n",
    "    os.makedirs(train_folder, exist_ok=True)\n",
    "    os.makedirs(val_folder, exist_ok=True)\n",
    "\n",
    "    for image in train_set: #loop over every image for training in og place\n",
    "        path = os.path.join(writer_path,image) #image og path\n",
    "        destination = os.path.join(train_folder,writer)\n",
    "        os.makedirs(destination, exist_ok=True)\n",
    "\n",
    "        shutil.move(path, destination) #move to writer directory in train folder\n",
    "\n",
    "    for image in val_set:\n",
    "        path = os.path.join(writer_path,image)\n",
    "        destination = os.path.join(val_folder,writer)\n",
    "        os.makedirs(destination, exist_ok=True)\n",
    "\n",
    "        shutil.move(path, destination)\n"
   ]
  },
  {
   "cell_type": "code",
   "execution_count": 18,
   "metadata": {
    "colab": {
     "base_uri": "https://localhost:8080/",
     "height": 35
    },
    "id": "QH9oFVK9dVbs",
    "outputId": "c3ca5d86-9ae4-44f6-a8fe-d2c86a955518"
   },
   "outputs": [
    {
     "data": {
      "application/vnd.google.colaboratory.intrinsic+json": {
       "type": "string"
      },
      "text/plain": [
       "'w0001'"
      ]
     },
     "execution_count": 18,
     "metadata": {},
     "output_type": "execute_result"
    }
   ],
   "source": [
    "w_ids[0]"
   ]
  },
  {
   "cell_type": "code",
   "execution_count": 19,
   "metadata": {
    "id": "Nh3KBXNusfBG"
   },
   "outputs": [],
   "source": [
    "for writer in w_ids: #delete old writer folders\n",
    "    try:\n",
    "        os.rmdir(f\"{source_dir}/{writer}\")\n",
    "    except:\n",
    "        pass"
   ]
  },
  {
   "cell_type": "code",
   "execution_count": 20,
   "metadata": {
    "colab": {
     "base_uri": "https://localhost:8080/"
    },
    "id": "ltUIwZgXv7os",
    "outputId": "91bfee7c-347f-4e79-c9ed-f6227cc22228"
   },
   "outputs": [
    {
     "data": {
      "text/plain": [
       "90"
      ]
     },
     "execution_count": 20,
     "metadata": {},
     "output_type": "execute_result"
    }
   ],
   "source": [
    "len(os.listdir(f\"{source_dir}/train\"))"
   ]
  },
  {
   "cell_type": "code",
   "execution_count": 21,
   "metadata": {
    "id": "_kKjNsx_0f5y"
   },
   "outputs": [],
   "source": [
    "IMAGE_SIZE = (384,384)\n",
    "BATCH_SIZE = 18"
   ]
  },
  {
   "cell_type": "markdown",
   "metadata": {
    "id": "sPkJvYRlc4RU"
   },
   "source": [
    "    Tried both 512,512 and 448,448 (to preserve details); runtime crashed"
   ]
  },
  {
   "cell_type": "code",
   "execution_count": 22,
   "metadata": {
    "colab": {
     "base_uri": "https://localhost:8080/"
    },
    "id": "CT_nHgYjx84T",
    "outputId": "9680c705-3d7a-4d11-802a-362bd29a519f"
   },
   "outputs": [
    {
     "name": "stdout",
     "output_type": "stream",
     "text": [
      "Found 1980 files belonging to 90 classes.\n",
      "Found 450 files belonging to 90 classes.\n"
     ]
    }
   ],
   "source": [
    "train_ds = tf.keras.utils.image_dataset_from_directory(\n",
    "    \"/content/Data/train\",\n",
    "    labels='inferred',\n",
    "    color_mode='rgb',\n",
    "    image_size=IMAGE_SIZE,\n",
    "    batch_size=BATCH_SIZE,\n",
    "    #validation_split=0.001,\n",
    "    #subset= \"training\",\n",
    "    #seed=42\n",
    "    )\n",
    "\n",
    "\n",
    "val_ds = tf.keras.utils.image_dataset_from_directory(\n",
    "    \"/content/Data/val\",\n",
    "    labels='inferred',\n",
    "    color_mode='rgb',\n",
    "    image_size=IMAGE_SIZE,\n",
    "    batch_size=BATCH_SIZE,\n",
    "    #validation_split=0.999,\n",
    "    #subset= \"validation\",\n",
    "    #seed=42\n",
    "    )"
   ]
  },
  {
   "cell_type": "code",
   "execution_count": 23,
   "metadata": {
    "colab": {
     "base_uri": "https://localhost:8080/",
     "height": 961
    },
    "id": "oBOH5WH25fe-",
    "outputId": "1a9e2958-6c1f-4cd2-fe1f-55c9399f6ee3"
   },
   "outputs": [
    {
     "data": {
      "image/png": "[encoded data removed]",
      "text/plain": [
       "<Figure size 1200x1200 with 9 Axes>"
      ]
     },
     "metadata": {},
     "output_type": "display_data"
    }
   ],
   "source": [
    "data_augmentation_layers = [\n",
    "    layers.RandomRotation(0.02),\n",
    "    layers.RandomCrop(120,120),\n",
    "    #layers.RandomZoom(height_factor=(0.2, 0.5), width_factor=(0.2, 0.5)),\n",
    "    layers.RandomContrast((0.2,0.5)),\n",
    "]\n",
    "\n",
    "\n",
    "def data_augmentation(images):\n",
    "    for layer in data_augmentation_layers:\n",
    "        images = layer(images)\n",
    "    return images\n",
    "plt.figure(figsize=(12, 12))\n",
    "for images, _ in train_ds.take(1):\n",
    "    for i in range(9):\n",
    "        augmented_images = data_augmentation(images)\n",
    "        ax = plt.subplot(3, 3, i + 1)\n",
    "        plt.imshow(np.array(augmented_images[0]).astype(\"uint8\"),cmap=\"gray\",interpolation=\"nearest\")\n",
    "        plt.axis(\"off\")"
   ]
  },
  {
   "cell_type": "markdown",
   "metadata": {
    "id": "vq7sKY7WElPy"
   },
   "source": [
    "    Concerns about cropping in too much whitespace ^^"
   ]
  },
  {
   "cell_type": "markdown",
   "metadata": {
    "id": "U0XZgRgkHDLY"
   },
   "source": [
    "### Modelling"
   ]
  },
  {
   "cell_type": "code",
   "execution_count": 24,
   "metadata": {
    "id": "7K4lm2xaGzQf"
   },
   "outputs": [],
   "source": [
    "from keras.applications import ResNet50V2"
   ]
  },
  {
   "cell_type": "code",
   "execution_count": 25,
   "metadata": {
    "colab": {
     "base_uri": "https://localhost:8080/"
    },
    "id": "Uu3Ar172HbdL",
    "outputId": "859bbd6c-90fa-4e25-ddd6-81e7a8a8fbb9"
   },
   "outputs": [
    {
     "data": {
      "text/plain": [
       "(384, 384, 3)"
      ]
     },
     "execution_count": 25,
     "metadata": {},
     "output_type": "execute_result"
    }
   ],
   "source": [
    "INPUT_SHAPE = IMAGE_SIZE + (3,)\n",
    "INPUT_SHAPE"
   ]
  },
  {
   "cell_type": "code",
   "execution_count": 26,
   "metadata": {
    "colab": {
     "base_uri": "https://localhost:8080/"
    },
    "id": "GgQqq5s4HGms",
    "outputId": "6d266283-9e79-4239-c42a-521de066acf0"
   },
   "outputs": [
    {
     "name": "stdout",
     "output_type": "stream",
     "text": [
      "Downloading data from https://storage.googleapis.com/tensorflow/keras-applications/resnet/resnet50v2_weights_tf_dim_ordering_tf_kernels_notop.h5\n",
      "\u001b[1m94668760/94668760\u001b[0m \u001b[32m━━━━━━━━━━━━━━━━━━━━\u001b[0m\u001b[37m\u001b[0m \u001b[1m1s\u001b[0m 0us/step\n"
     ]
    }
   ],
   "source": [
    "base_model = ResNet50V2(include_top = False,\n",
    "                        classifier_activation=\"softmax\",\n",
    "                        weights = \"imagenet\",\n",
    "                        input_shape=(IMAGE_SIZE + (3,))\n",
    "                        )"
   ]
  },
  {
   "cell_type": "code",
   "execution_count": 27,
   "metadata": {
    "id": "GX-toiH9HYpI"
   },
   "outputs": [],
   "source": [
    "def make_transfer_model(input_shape, num_classes):\n",
    "    # Load the pre-trained weights of MobileNetV2 and freeze the weights\n",
    "    backbone = base_model\n",
    "\n",
    "    backbone.trainable = False\n",
    "\n",
    "    inputs = layers.Input(input_shape)\n",
    "    x = keras.applications.resnet.preprocess_input(inputs)\n",
    "    x = backbone(x)\n",
    "    x = layers.Dropout(0.3)(x)\n",
    "\n",
    "    x = layers.GlobalAveragePooling2D()(x)\n",
    "\n",
    "    units = num_classes\n",
    "\n",
    "    x = layers.Dropout(0.25)(x)\n",
    "    # We specify activation=None so as to return logits\n",
    "    outputs = layers.Dense(units, activation=None)(x)\n",
    "\n",
    "    return keras.Model(inputs, outputs, name=\"baseline\")\n",
    "\n",
    "\n",
    "model = make_transfer_model(input_shape=INPUT_SHAPE, num_classes=90)"
   ]
  },
  {
   "cell_type": "code",
   "execution_count": 28,
   "metadata": {
    "id": "QR_seggeIH0p"
   },
   "outputs": [],
   "source": [
    "from tensorflow import data as tf_data"
   ]
  },
  {
   "cell_type": "code",
   "execution_count": 29,
   "metadata": {
    "id": "rKgEs2_9IKdQ"
   },
   "outputs": [],
   "source": [
    "train_ds = train_ds.cache().shuffle(1000).prefetch(tf.data.AUTOTUNE) #train_ds = train_ds.cache().prefetch(tf_data.AUTOTUNE)\n",
    "val_ds = val_ds.cache().prefetch(tf.data.AUTOTUNE) #val_ds = val_ds.cache().prefetch(tf_data.AUTOTUNE)"
   ]
  },
  {
   "cell_type": "code",
   "execution_count": null,
   "metadata": {
    "colab": {
     "background_save": true,
     "base_uri": "https://localhost:8080/"
    },
    "id": "LEyjH9XHIM5N",
    "outputId": "88a05761-ef0e-4ac6-9503-cd18d32b2d3f"
   },
   "outputs": [],
   "source": [
    "epochs = 8\n",
    "\n",
    "callbacks = [keras.callbacks.ModelCheckpoint(\"save_at_epoch{epoch}.keras\"),]\n",
    "\n",
    "model.compile(\n",
    "    optimizer= \"adam\",\n",
    "    loss=keras.losses.SparseCategoricalCrossentropy(from_logits=True),\n",
    "    metrics=[keras.metrics.SparseCategoricalAccuracy(name=\"acc\")],\n",
    "    )\n",
    "\n",
    "history = model.fit(\n",
    "    train_ds,\n",
    "    epochs= epochs,\n",
    "    callbacks= callbacks,\n",
    "    validation_data= val_ds,)\n"
   ]
  },
  {
   "cell_type": "code",
   "execution_count": null,
   "metadata": {
    "id": "ElrzoCFnIyX0"
   },
   "outputs": [],
   "source": [
    "plt.plot(range(len(history.history[\"acc\"])),history.history[\"acc\"],label=\"Training Loss\")\n",
    "plt.plot(range(len(history.history[\"val_acc\"])),history.history[\"val_acc\"],label=\"Validation Loss\")\n",
    "plt.legend()\n",
    "plt.show()"
   ]
  },
  {
   "cell_type": "code",
   "execution_count": 10,
   "metadata": {},
   "outputs": [],
   "source": [
    "import matplotlib.pyplot as plt"
   ]
  },
  {
   "cell_type": "code",
   "execution_count": 11,
   "metadata": {},
   "outputs": [
    {
     "data": {
      "image/png": "[encoded data removed]",
      "text/plain": [
       "<Figure size 640x480 with 1 Axes>"
      ]
     },
     "metadata": {},
     "output_type": "display_data"
    }
   ],
   "source": [
    "plt.plot(range(8),\n",
    "         [136.7275,116.0169,99.4707,94.8276,82.5701,79.9546,72.9690,69.4060],\n",
    "         label=\"Training Loss\")\n",
    "\n",
    "plt.plot(range(8),\n",
    "         [79.8570,58.0530,61.9865,62.5520,58.1141,50.5001,42.2873,46.0645],\n",
    "         label=\"Validation Loss\")\n",
    "plt.legend()\n",
    "plt.show()"
   ]
  },
  {
   "cell_type": "code",
   "execution_count": 14,
   "metadata": {},
   "outputs": [
    {
     "data": {
      "image/png": "[encoded data removed]",
      "text/plain": [
       "<Figure size 640x480 with 1 Axes>"
      ]
     },
     "metadata": {},
     "output_type": "display_data"
    }
   ],
   "source": [
    "plt.plot(range(8),\n",
    "         [0.0159,0.0219,0.0338,0.0338,0.0524,0.0496,0.0622,0.0565],\n",
    "         label=\"Training Accuracy\")\n",
    "\n",
    "plt.plot(range(8),\n",
    "         [0.0422,0.0622, 0.0778,0.0467,0.0822,0.1311,0.1044, 0.1111],\n",
    "         label=\"Validation Accuracy\")\n",
    "plt.legend()\n",
    "plt.show()"
   ]
  },
  {
   "cell_type": "markdown",
   "metadata": {},
   "source": [
    "    Was able to save results from initial training (8 epochs) ^^"
   ]
  },
  {
   "cell_type": "code",
   "execution_count": null,
   "metadata": {},
   "outputs": [],
   "source": []
  }
 ],
 "metadata": {
  "colab": {
   "provenance": []
  },
  "kernelspec": {
   "display_name": "Python 3 (ipykernel)",
   "language": "python",
   "name": "python3"
  },
  "language_info": {
   "codemirror_mode": {
    "name": "ipython",
    "version": 3
   },
   "file_extension": ".py",
   "mimetype": "text/x-python",
   "name": "python",
   "nbconvert_exporter": "python",
   "pygments_lexer": "ipython3",
   "version": "3.12.4"
  }
 },
 "nbformat": 4,
 "nbformat_minor": 4
}
