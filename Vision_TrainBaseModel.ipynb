{
 "cells": [
  {
   "cell_type": "markdown",
   "id": "0d6f4e66-d10e-466c-8bfc-2044ae09db93",
   "metadata": {},
   "source": [
    "#### Create a new notebook to train a baseline model (TrainBaseModel.ipynb)\n",
    " * Implement and train a transfer learning model, selecting a model from Keras Built-in Vision Models\n",
    "* Make sure you look make the learning curves.\n",
    "* Save the model using model.save() (see Keras Model Saving\n"
   ]
  },
  {
   "cell_type": "markdown",
   "id": "012dd999-e50a-4d9e-8c68-65d4d3635873",
   "metadata": {
    "jp-MarkdownHeadingCollapsed": true
   },
   "source": [
    "### Stratifying sampling\n",
    "    Attempting to ensure each class/writer is represented in the training set\n",
    "    (unsuccessful due to errors and failure to train model properly)"
   ]
  },
  {
   "cell_type": "code",
   "execution_count": 10,
   "id": "73639569-6c90-4deb-b959-c8cc642926e7",
   "metadata": {},
   "outputs": [
    {
     "name": "stdout",
     "output_type": "stream",
     "text": [
      "\u001b[34mData\u001b[m\u001b[m/                        Vision_TrainBaseModel.ipynb\n",
      "Vision_Feasibility_ZS.ipynb\n"
     ]
    }
   ],
   "source": [
    "ls"
   ]
  },
  {
   "cell_type": "code",
   "execution_count": 14,
   "id": "eaf0e1c7-186a-473c-8a3f-7916d7608e64",
   "metadata": {},
   "outputs": [
    {
     "name": "stdout",
     "output_type": "stream",
     "text": [
      "\u001b[34mw0001\u001b[m\u001b[m \u001b[34mw0010\u001b[m\u001b[m \u001b[34mw0018\u001b[m\u001b[m \u001b[34mw0027\u001b[m\u001b[m \u001b[34mw0034\u001b[m\u001b[m \u001b[34mw0063\u001b[m\u001b[m \u001b[34mw0074\u001b[m\u001b[m \u001b[34mw0083\u001b[m\u001b[m \u001b[34mw0092\u001b[m\u001b[m \u001b[34mw0124\u001b[m\u001b[m \u001b[34mw0133\u001b[m\u001b[m \u001b[34mw0142\u001b[m\u001b[m \u001b[34mw0151\u001b[m\u001b[m\n",
      "\u001b[34mw0002\u001b[m\u001b[m \u001b[34mw0011\u001b[m\u001b[m \u001b[34mw0020\u001b[m\u001b[m \u001b[34mw0028\u001b[m\u001b[m \u001b[34mw0035\u001b[m\u001b[m \u001b[34mw0064\u001b[m\u001b[m \u001b[34mw0075\u001b[m\u001b[m \u001b[34mw0085\u001b[m\u001b[m \u001b[34mw0093\u001b[m\u001b[m \u001b[34mw0125\u001b[m\u001b[m \u001b[34mw0134\u001b[m\u001b[m \u001b[34mw0143\u001b[m\u001b[m \u001b[34mw0152\u001b[m\u001b[m\n",
      "\u001b[34mw0003\u001b[m\u001b[m \u001b[34mw0012\u001b[m\u001b[m \u001b[34mw0022\u001b[m\u001b[m \u001b[34mw0029\u001b[m\u001b[m \u001b[34mw0036\u001b[m\u001b[m \u001b[34mw0066\u001b[m\u001b[m \u001b[34mw0076\u001b[m\u001b[m \u001b[34mw0086\u001b[m\u001b[m \u001b[34mw0094\u001b[m\u001b[m \u001b[34mw0126\u001b[m\u001b[m \u001b[34mw0135\u001b[m\u001b[m \u001b[34mw0144\u001b[m\u001b[m \u001b[34mw0153\u001b[m\u001b[m\n",
      "\u001b[34mw0004\u001b[m\u001b[m \u001b[34mw0013\u001b[m\u001b[m \u001b[34mw0023\u001b[m\u001b[m \u001b[34mw0030\u001b[m\u001b[m \u001b[34mw0038\u001b[m\u001b[m \u001b[34mw0069\u001b[m\u001b[m \u001b[34mw0077\u001b[m\u001b[m \u001b[34mw0087\u001b[m\u001b[m \u001b[34mw0095\u001b[m\u001b[m \u001b[34mw0128\u001b[m\u001b[m \u001b[34mw0136\u001b[m\u001b[m \u001b[34mw0145\u001b[m\u001b[m \u001b[34mw0154\u001b[m\u001b[m\n",
      "\u001b[34mw0005\u001b[m\u001b[m \u001b[34mw0015\u001b[m\u001b[m \u001b[34mw0024\u001b[m\u001b[m \u001b[34mw0031\u001b[m\u001b[m \u001b[34mw0043\u001b[m\u001b[m \u001b[34mw0070\u001b[m\u001b[m \u001b[34mw0078\u001b[m\u001b[m \u001b[34mw0088\u001b[m\u001b[m \u001b[34mw0121\u001b[m\u001b[m \u001b[34mw0129\u001b[m\u001b[m \u001b[34mw0137\u001b[m\u001b[m \u001b[34mw0147\u001b[m\u001b[m \u001b[34mw0155\u001b[m\u001b[m\n",
      "\u001b[34mw0006\u001b[m\u001b[m \u001b[34mw0016\u001b[m\u001b[m \u001b[34mw0025\u001b[m\u001b[m \u001b[34mw0032\u001b[m\u001b[m \u001b[34mw0061\u001b[m\u001b[m \u001b[34mw0071\u001b[m\u001b[m \u001b[34mw0080\u001b[m\u001b[m \u001b[34mw0089\u001b[m\u001b[m \u001b[34mw0122\u001b[m\u001b[m \u001b[34mw0130\u001b[m\u001b[m \u001b[34mw0138\u001b[m\u001b[m \u001b[34mw0148\u001b[m\u001b[m \u001b[34mw0156\u001b[m\u001b[m\n",
      "\u001b[34mw0009\u001b[m\u001b[m \u001b[34mw0017\u001b[m\u001b[m \u001b[34mw0026\u001b[m\u001b[m \u001b[34mw0033\u001b[m\u001b[m \u001b[34mw0062\u001b[m\u001b[m \u001b[34mw0073\u001b[m\u001b[m \u001b[34mw0082\u001b[m\u001b[m \u001b[34mw0091\u001b[m\u001b[m \u001b[34mw0123\u001b[m\u001b[m \u001b[34mw0131\u001b[m\u001b[m \u001b[34mw0139\u001b[m\u001b[m \u001b[34mw0149\u001b[m\u001b[m\n"
     ]
    }
   ],
   "source": [
    "! cd Data/Handwriting_Images && ls"
   ]
  },
  {
   "cell_type": "code",
   "execution_count": 55,
   "id": "27ef67fa-68bc-41b5-aca5-ab78f9dfc9a2",
   "metadata": {},
   "outputs": [
    {
     "data": {
      "text/plain": [
       "90"
      ]
     },
     "execution_count": 55,
     "metadata": {},
     "output_type": "execute_result"
    }
   ],
   "source": [
    "writer_ids = \"\"\"w0001 w0010 w0018 w0027 w0034 w0063 w0074 w0083 w0092 w0124 w0133 w0142 w0151\n",
    "w0002 w0011 w0020 w0028 w0035 w0064 w0075 w0085 w0093 w0125 w0134 w0143 w0152\n",
    "w0003 w0012 w0022 w0029 w0036 w0066 w0076 w0086 w0094 w0126 w0135 w0144 w0153\n",
    "w0004 w0013 w0023 w0030 w0038 w0069 w0077 w0087 w0095 w0128 w0136 w0145 w0154\n",
    "w0005 w0015 w0024 w0031 w0043 w0070 w0078 w0088 w0121 w0129 w0137 w0147 w0155\n",
    "w0006 w0016 w0025 w0032 w0061 w0071 w0080 w0089 w0122 w0130 w0138 w0148 w0156\n",
    "w0009 w0017 w0026 w0033 w0062 w0073 w0082 w0091 w0123 w0131 w0139 w0149\"\"\"\n",
    "\n",
    "w_ids = writer_ids.split()\n",
    "len(w_ids)"
   ]
  },
  {
   "cell_type": "code",
   "execution_count": 177,
   "id": "b7a0ed3e-ad81-43f9-8769-f5d1af82d063",
   "metadata": {},
   "outputs": [],
   "source": [
    "w_ids.sort()"
   ]
  },
  {
   "cell_type": "code",
   "execution_count": 179,
   "id": "6f5d14fa-a3a1-4bf6-ba28-586392fa8217",
   "metadata": {
    "scrolled": true
   },
   "outputs": [
    {
     "data": {
      "text/plain": [
       "['w0001',\n",
       " 'w0002',\n",
       " 'w0003',\n",
       " 'w0004',\n",
       " 'w0005',\n",
       " 'w0006',\n",
       " 'w0009',\n",
       " 'w0010',\n",
       " 'w0011',\n",
       " 'w0012',\n",
       " 'w0013',\n",
       " 'w0015',\n",
       " 'w0016',\n",
       " 'w0017',\n",
       " 'w0018',\n",
       " 'w0020',\n",
       " 'w0022',\n",
       " 'w0023',\n",
       " 'w0024',\n",
       " 'w0025',\n",
       " 'w0026',\n",
       " 'w0027',\n",
       " 'w0028',\n",
       " 'w0029',\n",
       " 'w0030',\n",
       " 'w0031',\n",
       " 'w0032',\n",
       " 'w0033',\n",
       " 'w0034',\n",
       " 'w0035',\n",
       " 'w0036',\n",
       " 'w0038',\n",
       " 'w0043',\n",
       " 'w0061',\n",
       " 'w0062',\n",
       " 'w0063',\n",
       " 'w0064',\n",
       " 'w0066',\n",
       " 'w0069',\n",
       " 'w0070',\n",
       " 'w0071',\n",
       " 'w0073',\n",
       " 'w0074',\n",
       " 'w0075',\n",
       " 'w0076',\n",
       " 'w0077',\n",
       " 'w0078',\n",
       " 'w0080',\n",
       " 'w0082',\n",
       " 'w0083',\n",
       " 'w0085',\n",
       " 'w0086',\n",
       " 'w0087',\n",
       " 'w0088',\n",
       " 'w0089',\n",
       " 'w0091',\n",
       " 'w0092',\n",
       " 'w0093',\n",
       " 'w0094',\n",
       " 'w0095',\n",
       " 'w0121',\n",
       " 'w0122',\n",
       " 'w0123',\n",
       " 'w0124',\n",
       " 'w0125',\n",
       " 'w0126',\n",
       " 'w0128',\n",
       " 'w0129',\n",
       " 'w0130',\n",
       " 'w0131',\n",
       " 'w0133',\n",
       " 'w0134',\n",
       " 'w0135',\n",
       " 'w0136',\n",
       " 'w0137',\n",
       " 'w0138',\n",
       " 'w0139',\n",
       " 'w0142',\n",
       " 'w0143',\n",
       " 'w0144',\n",
       " 'w0145',\n",
       " 'w0147',\n",
       " 'w0148',\n",
       " 'w0149',\n",
       " 'w0151',\n",
       " 'w0152',\n",
       " 'w0153',\n",
       " 'w0154',\n",
       " 'w0155',\n",
       " 'w0156']"
      ]
     },
     "execution_count": 179,
     "metadata": {},
     "output_type": "execute_result"
    }
   ],
   "source": [
    "w_ids"
   ]
  },
  {
   "cell_type": "code",
   "execution_count": 181,
   "id": "1d9a5c36-6dc3-400d-9add-551570489662",
   "metadata": {},
   "outputs": [
    {
     "name": "stdout",
     "output_type": "stream",
     "text": [
      "w0001_s01_pLND_r01.png w0001_s02_pLND_r01.png w0001_s03_pLND_r01.png\n",
      "w0001_s01_pLND_r02.png w0001_s02_pLND_r02.png w0001_s03_pLND_r02.png\n",
      "w0001_s01_pLND_r03.png w0001_s02_pLND_r03.png w0001_s03_pLND_r03.png\n",
      "w0001_s01_pPHR_r01.png w0001_s02_pPHR_r01.png w0001_s03_pPHR_r01.png\n",
      "w0001_s01_pPHR_r02.png w0001_s02_pPHR_r02.png w0001_s03_pPHR_r02.png\n",
      "w0001_s01_pPHR_r03.png w0001_s02_pPHR_r03.png w0001_s03_pPHR_r03.png\n",
      "w0001_s01_pWOZ_r01.png w0001_s02_pWOZ_r01.png w0001_s03_pWOZ_r01.png\n",
      "w0001_s01_pWOZ_r02.png w0001_s02_pWOZ_r02.png w0001_s03_pWOZ_r02.png\n",
      "w0001_s01_pWOZ_r03.png w0001_s02_pWOZ_r03.png w0001_s03_pWOZ_r03.png\n"
     ]
    }
   ],
   "source": [
    "! cd Data/Handwriting_Images/w0001 && ls"
   ]
  },
  {
   "cell_type": "code",
   "execution_count": 182,
   "id": "a6ed835c-20f8-4323-9e19-1f8b5760ddbe",
   "metadata": {},
   "outputs": [],
   "source": [
    "s_ids = [\"01\",\"02\",\"03\"]\n",
    "p_ids = [\"LND\",\"PHR\",\"WOZ\"]\n",
    "r_ids = s_ids.copy()"
   ]
  },
  {
   "cell_type": "code",
   "execution_count": 183,
   "id": "4e7c73cf-45ec-46e6-9b93-33c31eca514d",
   "metadata": {},
   "outputs": [],
   "source": [
    "picture = f\"{w_id}_s{s_id}_p{p_id}_r{r_id}\""
   ]
  },
  {
   "cell_type": "code",
   "execution_count": 306,
   "id": "ca31d2f2-afb8-4bf5-9bd5-374a086726fa",
   "metadata": {},
   "outputs": [],
   "source": [
    "image_path = \"/Users/zainabsiddiqui/Downloads/Data_Problems/Vision_Project/Data/Handwriting_Images/\""
   ]
  },
  {
   "cell_type": "code",
   "execution_count": 308,
   "id": "9ecfec18-b4c7-44f6-ade0-62927e9614e5",
   "metadata": {},
   "outputs": [
    {
     "data": {
      "text/plain": [
       "27"
      ]
     },
     "execution_count": 308,
     "metadata": {},
     "output_type": "execute_result"
    }
   ],
   "source": [
    "paths = list()\n",
    "for w_id in w_ids:\n",
    "    writer = list()\n",
    "    for s_id in s_ids:\n",
    "        for p_id in p_ids:\n",
    "            for r_id in r_ids:\n",
    "                writer.append(f\"{image_path}{w_id}/{w_id}_s{s_id}_p{p_id}_r{r_id}\")\n",
    "    paths.append(writer)\n",
    "\n",
    "len(paths[0])"
   ]
  },
  {
   "cell_type": "code",
   "execution_count": 309,
   "id": "dd604c5f-3312-4662-8693-4db8202fffa6",
   "metadata": {
    "scrolled": true
   },
   "outputs": [
    {
     "data": {
      "text/plain": [
       "['/Users/zainabsiddiqui/Downloads/Data_Problems/Vision_Project/Data/Handwriting_Images/w0036/w0036_s01_pLND_r01',\n",
       " '/Users/zainabsiddiqui/Downloads/Data_Problems/Vision_Project/Data/Handwriting_Images/w0036/w0036_s01_pLND_r02',\n",
       " '/Users/zainabsiddiqui/Downloads/Data_Problems/Vision_Project/Data/Handwriting_Images/w0036/w0036_s01_pLND_r03',\n",
       " '/Users/zainabsiddiqui/Downloads/Data_Problems/Vision_Project/Data/Handwriting_Images/w0036/w0036_s01_pPHR_r01',\n",
       " '/Users/zainabsiddiqui/Downloads/Data_Problems/Vision_Project/Data/Handwriting_Images/w0036/w0036_s01_pPHR_r02',\n",
       " '/Users/zainabsiddiqui/Downloads/Data_Problems/Vision_Project/Data/Handwriting_Images/w0036/w0036_s01_pPHR_r03',\n",
       " '/Users/zainabsiddiqui/Downloads/Data_Problems/Vision_Project/Data/Handwriting_Images/w0036/w0036_s01_pWOZ_r01',\n",
       " '/Users/zainabsiddiqui/Downloads/Data_Problems/Vision_Project/Data/Handwriting_Images/w0036/w0036_s01_pWOZ_r02',\n",
       " '/Users/zainabsiddiqui/Downloads/Data_Problems/Vision_Project/Data/Handwriting_Images/w0036/w0036_s01_pWOZ_r03',\n",
       " '/Users/zainabsiddiqui/Downloads/Data_Problems/Vision_Project/Data/Handwriting_Images/w0036/w0036_s02_pLND_r01',\n",
       " '/Users/zainabsiddiqui/Downloads/Data_Problems/Vision_Project/Data/Handwriting_Images/w0036/w0036_s02_pLND_r02',\n",
       " '/Users/zainabsiddiqui/Downloads/Data_Problems/Vision_Project/Data/Handwriting_Images/w0036/w0036_s02_pLND_r03',\n",
       " '/Users/zainabsiddiqui/Downloads/Data_Problems/Vision_Project/Data/Handwriting_Images/w0036/w0036_s02_pPHR_r01',\n",
       " '/Users/zainabsiddiqui/Downloads/Data_Problems/Vision_Project/Data/Handwriting_Images/w0036/w0036_s02_pPHR_r02',\n",
       " '/Users/zainabsiddiqui/Downloads/Data_Problems/Vision_Project/Data/Handwriting_Images/w0036/w0036_s02_pPHR_r03',\n",
       " '/Users/zainabsiddiqui/Downloads/Data_Problems/Vision_Project/Data/Handwriting_Images/w0036/w0036_s02_pWOZ_r01',\n",
       " '/Users/zainabsiddiqui/Downloads/Data_Problems/Vision_Project/Data/Handwriting_Images/w0036/w0036_s02_pWOZ_r02',\n",
       " '/Users/zainabsiddiqui/Downloads/Data_Problems/Vision_Project/Data/Handwriting_Images/w0036/w0036_s02_pWOZ_r03',\n",
       " '/Users/zainabsiddiqui/Downloads/Data_Problems/Vision_Project/Data/Handwriting_Images/w0036/w0036_s03_pLND_r01',\n",
       " '/Users/zainabsiddiqui/Downloads/Data_Problems/Vision_Project/Data/Handwriting_Images/w0036/w0036_s03_pLND_r02',\n",
       " '/Users/zainabsiddiqui/Downloads/Data_Problems/Vision_Project/Data/Handwriting_Images/w0036/w0036_s03_pLND_r03',\n",
       " '/Users/zainabsiddiqui/Downloads/Data_Problems/Vision_Project/Data/Handwriting_Images/w0036/w0036_s03_pPHR_r01',\n",
       " '/Users/zainabsiddiqui/Downloads/Data_Problems/Vision_Project/Data/Handwriting_Images/w0036/w0036_s03_pPHR_r02',\n",
       " '/Users/zainabsiddiqui/Downloads/Data_Problems/Vision_Project/Data/Handwriting_Images/w0036/w0036_s03_pPHR_r03',\n",
       " '/Users/zainabsiddiqui/Downloads/Data_Problems/Vision_Project/Data/Handwriting_Images/w0036/w0036_s03_pWOZ_r01',\n",
       " '/Users/zainabsiddiqui/Downloads/Data_Problems/Vision_Project/Data/Handwriting_Images/w0036/w0036_s03_pWOZ_r02',\n",
       " '/Users/zainabsiddiqui/Downloads/Data_Problems/Vision_Project/Data/Handwriting_Images/w0036/w0036_s03_pWOZ_r03']"
      ]
     },
     "execution_count": 309,
     "metadata": {},
     "output_type": "execute_result"
    }
   ],
   "source": [
    "paths[30]"
   ]
  },
  {
   "cell_type": "code",
   "execution_count": 310,
   "id": "559de9ea-bea5-440d-b598-97a118bcb6ff",
   "metadata": {},
   "outputs": [],
   "source": [
    "import random"
   ]
  },
  {
   "cell_type": "code",
   "execution_count": 311,
   "id": "1b9c41c3-8b75-45b1-9563-6d44862958fa",
   "metadata": {},
   "outputs": [
    {
     "data": {
      "text/plain": [
       "22"
      ]
     },
     "execution_count": 311,
     "metadata": {},
     "output_type": "execute_result"
    }
   ],
   "source": [
    "round(27*0.8)"
   ]
  },
  {
   "cell_type": "code",
   "execution_count": 312,
   "id": "ff4021db-6f65-4aae-a545-30d31d49861e",
   "metadata": {},
   "outputs": [
    {
     "name": "stdout",
     "output_type": "stream",
     "text": [
      "training images: 1980\n",
      "validation images: 450\n"
     ]
    }
   ],
   "source": [
    "train_paths = list()\n",
    "val_paths = list()\n",
    "\n",
    "for writer in paths:\n",
    "    random.shuffle(writer)\n",
    "    split = 22  #80/20 split\n",
    "    train_paths.extend(writer[:split])\n",
    "    val_paths.extend(writer[split:])\n",
    "\n",
    "print(f\"training images: {len(train_paths)}\\nvalidation images: {len(val_paths)}\")"
   ]
  },
  {
   "cell_type": "code",
   "execution_count": 313,
   "id": "90cf35fa-122c-4b53-90af-eb298dcdbf91",
   "metadata": {},
   "outputs": [],
   "source": [
    "home_path = \"/Users/zainabsiddiqui/Downloads/Data_Problems/Vision_Project\""
   ]
  },
  {
   "cell_type": "code",
   "execution_count": 314,
   "id": "6e238f1a-ffe5-4375-9e17-f6983f0d64e5",
   "metadata": {},
   "outputs": [],
   "source": [
    "import tensorflow as tf\n",
    "import os\n",
    "import keras"
   ]
  },
  {
   "cell_type": "code",
   "execution_count": 315,
   "id": "20802d86-d3ef-4328-a885-82b2da377992",
   "metadata": {},
   "outputs": [],
   "source": [
    "import numpy as np\n",
    "import matplotlib.pyplot as plt"
   ]
  },
  {
   "cell_type": "code",
   "execution_count": 316,
   "id": "e88cb7ba-fff5-46bd-92b9-f005e68c055b",
   "metadata": {},
   "outputs": [],
   "source": [
    "all_writers = sorted(os.listdir(f\"{home_path}/Data/Handwriting_Images\"))\n",
    "class_names = [d for d in all_writers if os.path.isdir(os.path.join(f\"{home_path}/Data/Handwriting_Images\", d))]\n",
    "class_to_index = {name: idx for idx, name in enumerate(class_names)}"
   ]
  },
  {
   "cell_type": "code",
   "execution_count": 317,
   "id": "906ff2a7-0d80-4113-aeae-150f598677f6",
   "metadata": {},
   "outputs": [],
   "source": [
    "def get_label_from_path(path):\n",
    "    folder_name = tf.strings.split(path, os.sep)[-2]  # second last part of path\n",
    "    return tf.cast(class_to_index[folder_name.numpy().decode()], tf.int32)\n",
    "\n",
    "def get_label_tf(path):\n",
    "    # Wrap the non-TensorFlow version with `tf.py_function`\n",
    "    label = tf.py_function(get_label_from_path, [path], tf.int32)\n",
    "    return label"
   ]
  },
  {
   "cell_type": "code",
   "execution_count": 318,
   "id": "45586b65-16b2-48a3-9d5d-6ae5078f518c",
   "metadata": {},
   "outputs": [],
   "source": [
    "train_dataset = tf.data.Dataset.from_tensor_slices(train_paths)\n",
    "\n",
    "def process_path(file_path):\n",
    "    label = get_label_tf(file_path)\n",
    "    image = tf.io.read_file(file_path)\n",
    "    image = tf.image.decode_png(image, channels=1)\n",
    "    image = tf.image.resize(image, [256,256]) \n",
    "    return image, label\n",
    "\n",
    "train_dataset = train_dataset.map(process_path)\n",
    "train_dataset = train_dataset.batch(32).shuffle(1000).prefetch(tf.data.AUTOTUNE)"
   ]
  },
  {
   "cell_type": "code",
   "execution_count": 319,
   "id": "77489244-7b15-4b60-878f-b5fd4cefe257",
   "metadata": {},
   "outputs": [],
   "source": [
    "val_dataset = tf.data.Dataset.from_tensor_slices(val_paths,)\n",
    "\n",
    "val_dataset = val_dataset.map(process_path)\n",
    "val_dataset = val_dataset.batch(32).shuffle(1000).prefetch(tf.data.AUTOTUNE)"
   ]
  },
  {
   "cell_type": "code",
   "execution_count": 320,
   "id": "28de4200-991f-4304-a9a0-d5f8d5d677b0",
   "metadata": {},
   "outputs": [],
   "source": [
    "def expand_channels(image, label):\n",
    "    image = tf.image.grayscale_to_rgb(image) \n",
    "    return image, label\n",
    "\n",
    "train_dataset = train_dataset.map(expand_channels)\n",
    "val_dataset = val_dataset.map(expand_channels)"
   ]
  },
  {
   "cell_type": "code",
   "execution_count": 333,
   "id": "1ddd42a2-4896-420f-b20c-a56a4bb16420",
   "metadata": {},
   "outputs": [
    {
     "name": "stdout",
     "output_type": "stream",
     "text": [
      "2430\n"
     ]
    }
   ],
   "source": [
    "from pathlib import Path\n",
    "\n",
    "base_dir = Path(\"/Users/zainabsiddiqui/Downloads/Data_Problems/Vision_Project/Data/Handwriting_Images\")\n",
    "\n",
    "all_image_paths = list(base_dir.glob(\"*/*.png\")) \n",
    "print(len(all_image_paths))\n"
   ]
  },
  {
   "cell_type": "code",
   "execution_count": 395,
   "id": "4a627733-e033-4aab-84a6-cd0ff432751d",
   "metadata": {
    "scrolled": true
   },
   "outputs": [],
   "source": [
    "from collections import defaultdict\n",
    "\n",
    "writer_to_paths = defaultdict(list)\n",
    "\n",
    "for path in all_image_paths:\n",
    "    writer_id = path.parent.name  # folder name\n",
    "    writer_to_paths[writer_id].append(path)\n",
    "\n",
    "# now stratify\n",
    "train_paths = []\n",
    "val_paths = []\n",
    "\n",
    "for writer, paths in writer_to_paths.items():\n",
    "    random.shuffle(paths)\n",
    "    split = int(0.8 * len(paths))  # 80/20 split\n",
    "    train_paths.extend(paths[:split])\n",
    "    val_paths.extend(paths[split:])\n",
    "\n",
    "def get_label(path):\n",
    "    return path.parent.name\n",
    "\n",
    "def process_path(file_path):\n",
    "    label = get_label(file_path)\n",
    "    img = tf.io.read_file(str(file_path))\n",
    "    img = tf.image.decode_png(img, channels=3) \n",
    "    img = tf.image.resize(img, [224,224])\n",
    "    return img, label\n",
    "\n",
    "# Turn writer names into class indices\n",
    "label_names = sorted(writer_to_paths.keys())\n",
    "label_to_index = {name: index for index, name in enumerate(label_names)}\n",
    "\n",
    "\n",
    "keys_tensor = tf.constant(list(label_to_index.keys()))\n",
    "vals_tensor = tf.constant(list(label_to_index.values()), dtype=tf.int64)\n",
    "table = tf.lookup.StaticHashTable(\n",
    "    initializer=tf.lookup.KeyValueTensorInitializer(keys_tensor, vals_tensor),\n",
    "    default_value=-1  \n",
    ")\n",
    "\n",
    "\n",
    "def process_path_with_index(file_path):\n",
    "    parts = tf.strings.split(file_path, os.sep)\n",
    "    label_str = parts[-2]\n",
    "    label_idx = table.lookup(label_str)\n",
    "\n",
    "    img = tf.io.read_file(file_path)\n",
    "    img = tf.image.decode_png(img, channels=3)\n",
    "    img = tf.image.resize(img, [224,224])\n",
    "    img = tf.cast(img, tf.float32) / 255.0  # normalize\n",
    "\n",
    "    return img, label_idx\n",
    "\n",
    "\n",
    "train_ds = tf.data.Dataset.from_tensor_slices([str(p) for p in train_paths])\n",
    "train_ds = train_ds.map(process_path_with_index)\n",
    "\n",
    "val_ds = tf.data.Dataset.from_tensor_slices([str(p) for p in val_paths])\n",
    "val_ds = val_ds.map(process_path_with_index)\n",
    "\n",
    "BATCH_SIZE = 8\n",
    "train_ds = train_ds.batch(BATCH_SIZE).prefetch(tf.data.AUTOTUNE)\n",
    "val_ds = val_ds.batch(BATCH_SIZE).prefetch(tf.data.AUTOTUNE)\n"
   ]
  },
  {
   "cell_type": "markdown",
   "id": "1af02f2a-fd6c-49e7-9658-f764c5dcea09",
   "metadata": {},
   "source": [
    "## Model"
   ]
  },
  {
   "cell_type": "code",
   "execution_count": 379,
   "id": "5e148284-cad1-4e0f-b73d-fa629e4f323f",
   "metadata": {},
   "outputs": [],
   "source": [
    "from keras.applications import ResNet50V2"
   ]
  },
  {
   "cell_type": "code",
   "execution_count": 380,
   "id": "1babd857-bc31-42b4-bbae-02b072d425e3",
   "metadata": {},
   "outputs": [],
   "source": [
    "from keras import layers"
   ]
  },
  {
   "cell_type": "code",
   "execution_count": 399,
   "id": "a6a558be-c7f9-4edf-b5fb-049952a4678d",
   "metadata": {},
   "outputs": [],
   "source": [
    "base_model = ResNet50V2(include_top = False,\n",
    "                        classifier_activation=\"softmax\",\n",
    "                        weights = \"imagenet\",\n",
    "                        input_shape=(224,224, 3)\n",
    "                        )"
   ]
  },
  {
   "cell_type": "code",
   "execution_count": 401,
   "id": "819d9533-9912-4a0f-a69c-0946ba57d1c4",
   "metadata": {},
   "outputs": [],
   "source": [
    "def make_transfer_model(input_shape, num_classes):\n",
    "    # Load the pre-trained weights of MobileNetV2 and freeze the weights\n",
    "    backbone = base_model\n",
    "    \n",
    "    backbone.trainable = False\n",
    "\n",
    "    inputs = layers.Input(input_shape)\n",
    "    x = keras.applications.resnet.preprocess_input(inputs)\n",
    "    x = backbone(x)\n",
    "    x = layers.Dropout(0.3)(x)\n",
    "    \n",
    "    x = layers.GlobalAveragePooling2D()(x)\n",
    "\n",
    "    units = num_classes\n",
    "\n",
    "    x = layers.Dropout(0.25)(x)\n",
    "    # We specify activation=None so as to return logits\n",
    "    outputs = layers.Dense(units, activation=None)(x)\n",
    "\n",
    "    return keras.Model(inputs, outputs, name=\"baseline\")\n",
    "\n",
    "image_size = (224,224)\n",
    "\n",
    "model = make_transfer_model(input_shape=image_size + (3,), num_classes=90)"
   ]
  },
  {
   "cell_type": "code",
   "execution_count": 428,
   "id": "eb82785a-aa3d-4ee2-9bde-827bf8dea3ed",
   "metadata": {},
   "outputs": [
    {
     "name": "stdout",
     "output_type": "stream",
     "text": [
      "Found 2430 files belonging to 90 classes.\n",
      "Using 1944 files for training.\n",
      "Using 486 files for validation.\n"
     ]
    }
   ],
   "source": [
    "train_ds1, val_ds1 = tf.keras.utils.image_dataset_from_directory(\n",
    "    image_path, \n",
    "    labels='inferred',\n",
    "    color_mode='rgb',\n",
    "    image_size=(224,224),\n",
    "    batch_size=8,\n",
    "    validation_split=0.2,\n",
    "    subset=\"both\",\n",
    "    seed=42)\n"
   ]
  },
  {
   "cell_type": "code",
   "execution_count": 436,
   "id": "c2dbc793-146a-4a89-a944-a761aca38f98",
   "metadata": {},
   "outputs": [],
   "source": [
    "from tensorflow import data as tf_data"
   ]
  },
  {
   "cell_type": "code",
   "execution_count": 438,
   "id": "2bf003aa-77b2-4901-8315-5da1f70e76bf",
   "metadata": {},
   "outputs": [],
   "source": [
    "train_ds = train_ds.prefetch(tf_data.AUTOTUNE)\n",
    "val_ds = val_ds.prefetch(tf_data.AUTOTUNE)"
   ]
  },
  {
   "cell_type": "code",
   "execution_count": 444,
   "id": "daa467d9-b932-466a-b6cf-eea4da82976c",
   "metadata": {},
   "outputs": [
    {
     "name": "stdout",
     "output_type": "stream",
     "text": [
      "Epoch 1/10\n",
      "\u001b[1m243/243\u001b[0m \u001b[32m━━━━━━━━━━━━━━━━━━━━\u001b[0m\u001b[37m\u001b[0m \u001b[1m72s\u001b[0m 287ms/step - acc: 0.0406 - loss: 68.4220 - val_acc: 0.0700 - val_loss: 37.6517\n",
      "Epoch 2/10\n",
      "\u001b[1m243/243\u001b[0m \u001b[32m━━━━━━━━━━━━━━━━━━━━\u001b[0m\u001b[37m\u001b[0m \u001b[1m67s\u001b[0m 274ms/step - acc: 0.0534 - loss: 62.2403 - val_acc: 0.0473 - val_loss: 40.5504\n",
      "Epoch 3/10\n",
      "\u001b[1m243/243\u001b[0m \u001b[32m━━━━━━━━━━━━━━━━━━━━\u001b[0m\u001b[37m\u001b[0m \u001b[1m67s\u001b[0m 276ms/step - acc: 0.0523 - loss: 60.1606 - val_acc: 0.0947 - val_loss: 34.1427\n",
      "Epoch 4/10\n",
      "\u001b[1m243/243\u001b[0m \u001b[32m━━━━━━━━━━━━━━━━━━━━\u001b[0m\u001b[37m\u001b[0m \u001b[1m66s\u001b[0m 271ms/step - acc: 0.0430 - loss: 57.1543 - val_acc: 0.0905 - val_loss: 31.9936\n",
      "Epoch 5/10\n",
      "\u001b[1m243/243\u001b[0m \u001b[32m━━━━━━━━━━━━━━━━━━━━\u001b[0m\u001b[37m\u001b[0m \u001b[1m69s\u001b[0m 284ms/step - acc: 0.0539 - loss: 52.8104 - val_acc: 0.0658 - val_loss: 34.5751\n",
      "Epoch 6/10\n",
      "\u001b[1m243/243\u001b[0m \u001b[32m━━━━━━━━━━━━━━━━━━━━\u001b[0m\u001b[37m\u001b[0m \u001b[1m70s\u001b[0m 288ms/step - acc: 0.0618 - loss: 48.9935 - val_acc: 0.0741 - val_loss: 26.9719\n",
      "Epoch 7/10\n",
      "\u001b[1m243/243\u001b[0m \u001b[32m━━━━━━━━━━━━━━━━━━━━\u001b[0m\u001b[37m\u001b[0m \u001b[1m70s\u001b[0m 289ms/step - acc: 0.0824 - loss: 45.0631 - val_acc: 0.1152 - val_loss: 26.2928\n",
      "Epoch 8/10\n",
      "\u001b[1m243/243\u001b[0m \u001b[32m━━━━━━━━━━━━━━━━━━━━\u001b[0m\u001b[37m\u001b[0m \u001b[1m69s\u001b[0m 282ms/step - acc: 0.0672 - loss: 46.2388 - val_acc: 0.0864 - val_loss: 30.0813\n",
      "Epoch 9/10\n",
      "\u001b[1m243/243\u001b[0m \u001b[32m━━━━━━━━━━━━━━━━━━━━\u001b[0m\u001b[37m\u001b[0m \u001b[1m67s\u001b[0m 276ms/step - acc: 0.0710 - loss: 43.3077 - val_acc: 0.0473 - val_loss: 35.2242\n",
      "Epoch 10/10\n",
      "\u001b[1m243/243\u001b[0m \u001b[32m━━━━━━━━━━━━━━━━━━━━\u001b[0m\u001b[37m\u001b[0m \u001b[1m65s\u001b[0m 267ms/step - acc: 0.0831 - loss: 42.2135 - val_acc: 0.0720 - val_loss: 31.0237\n"
     ]
    }
   ],
   "source": [
    "epochs = 10\n",
    "\n",
    "callbacks = [keras.callbacks.ModelCheckpoint(\"save_at_{epoch}.keras\"),]\n",
    "\n",
    "model.compile(\n",
    "    optimizer= keras.optimizers.Adam(3e-4),\n",
    "    loss=keras.losses.SparseCategoricalCrossentropy(from_logits=True),\n",
    "    metrics=[keras.metrics.SparseCategoricalAccuracy(name=\"acc\")],\n",
    "    )\n",
    "\n",
    "history = model.fit(\n",
    "    train_ds1, #train_ds,\n",
    "    epochs=epochs,\n",
    "    callbacks=callbacks,\n",
    "    validation_data= val_ds1)#val_ds,)\n"
   ]
  },
  {
   "cell_type": "code",
   "execution_count": 445,
   "id": "eff52811-72e1-4210-9250-6f948fb7fa80",
   "metadata": {},
   "outputs": [
    {
     "data": {
      "image/png": "[encoded data removed]",
      "text/plain": [
       "<Figure size 640x480 with 1 Axes>"
      ]
     },
     "metadata": {},
     "output_type": "display_data"
    }
   ],
   "source": [
    "plt.plot(range(len(history.history[\"acc\"])),history.history[\"acc\"],label=\"Training Loss\")\n",
    "plt.plot(range(len(history.history[\"val_acc\"])),history.history[\"val_acc\"],label=\"Validation Loss\")\n",
    "plt.legend()\n",
    "plt.show()"
   ]
  },
  {
   "cell_type": "code",
   "execution_count": 442,
   "id": "69d06277-a8bd-4ec0-908c-c185596c3ea5",
   "metadata": {},
   "outputs": [],
   "source": [
    "model.save(\"BaseModel.keras\")"
   ]
  },
  {
   "cell_type": "code",
   "execution_count": null,
   "id": "a424c8f5-dff0-420d-93c3-03cf0273fc7b",
   "metadata": {},
   "outputs": [],
   "source": []
  }
 ],
 "metadata": {
  "kernelspec": {
   "display_name": "Python 3 (ipykernel)",
   "language": "python",
   "name": "python3"
  },
  "language_info": {
   "codemirror_mode": {
    "name": "ipython",
    "version": 3
   },
   "file_extension": ".py",
   "mimetype": "text/x-python",
   "name": "python",
   "nbconvert_exporter": "python",
   "pygments_lexer": "ipython3",
   "version": "3.12.4"
  }
 },
 "nbformat": 4,
 "nbformat_minor": 5
}
